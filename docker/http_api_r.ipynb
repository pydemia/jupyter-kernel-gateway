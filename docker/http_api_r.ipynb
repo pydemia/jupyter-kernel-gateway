{
 "cells": [
  {
   "cell_type": "code",
   "execution_count": null,
   "metadata": {},
   "outputs": [],
   "source": [
    "import json"
   ]
  },
  {
   "cell_type": "code",
   "execution_count": null,
   "metadata": {},
   "outputs": [],
   "source": [
    "# GET /ping\n",
    "\n",
    "print('{\"hello\": \"world\"}')"
   ]
  },
  {
   "cell_type": "code",
   "execution_count": null,
   "metadata": {},
   "outputs": [],
   "source": [
    "# POST /test/:row_id\n",
    "\n",
    "# application/json\n",
    "# multipart/form-data\n",
    "# application/x-www-form-urlencoded\n",
    "# text/plain\n",
    "\n",
    "req = json.loads(REQUEST)\n",
    "\n",
    "req['body']\n",
    "req['args']\n",
    "req['path']\n",
    "req['headers']\n",
    "\n",
    "res = {'id' : row_id}\n",
    "print(json.dumps(res))"
   ]
  },
  {
   "cell_type": "code",
   "execution_count": null,
   "metadata": {},
   "outputs": [],
   "source": [
    "# ResponseInfo POST /person\n",
    "\n",
    "print(json.dumps({\n",
    "    \"headers\" : {\n",
    "        \"Content-Type\" : \"application/json\"\n",
    "    },\n",
    "    \"status\" : 201,\n",
    "\n",
    "}))"
   ]
  }
 ],
 "metadata": {
  "kernelspec": {
   "display_name": "kernel-gw-py310 (conda env)",
   "language": "python",
   "name": "kernel-gw-py310"
  },
  "language_info": {
   "name": "python",
   "version": "3.10.4"
  },
  "orig_nbformat": 4,
  "vscode": {
   "interpreter": {
    "hash": "0f1769f884d3a23c413ebabcba3db4e78de52308a66046cb2686d9ac1e154b93"
   }
  }
 },
 "nbformat": 4,
 "nbformat_minor": 2
}
